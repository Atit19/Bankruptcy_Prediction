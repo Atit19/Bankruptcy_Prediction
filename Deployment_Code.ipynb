{
 "cells": [
  {
   "cell_type": "code",
   "execution_count": 2,
   "id": "a641a9c5",
   "metadata": {},
   "outputs": [],
   "source": [
    "import streamlit as st"
   ]
  },
  {
   "cell_type": "code",
   "execution_count": null,
   "id": "2044a8d5",
   "metadata": {},
   "outputs": [],
   "source": [
    "!streamlit run \"C:\\\\Users\\\\Lenovo\\\\Bankruptcy\\\\BankruptcyPy_FileGUI.py"
   ]
  },
  {
   "cell_type": "code",
   "execution_count": null,
   "id": "cba305e8",
   "metadata": {},
   "outputs": [],
   "source": []
  }
 ],
 "metadata": {
  "kernelspec": {
   "display_name": "Python 3 (ipykernel)",
   "language": "python",
   "name": "python3"
  },
  "language_info": {
   "codemirror_mode": {
    "name": "ipython",
    "version": 3
   },
   "file_extension": ".py",
   "mimetype": "text/x-python",
   "name": "python",
   "nbconvert_exporter": "python",
   "pygments_lexer": "ipython3",
   "version": "3.9.12"
  }
 },
 "nbformat": 4,
 "nbformat_minor": 5
}
